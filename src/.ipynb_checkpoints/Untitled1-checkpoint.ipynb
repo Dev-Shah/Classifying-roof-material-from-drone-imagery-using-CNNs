{
 "cells": [
  {
   "cell_type": "code",
   "execution_count": 8,
   "metadata": {},
   "outputs": [],
   "source": [
    "dict_ = {\n",
    "    'model_name':'resnet50',\n",
    "    'optimizer_name':'Adam',\n",
    "    'num_epochs':200,\n",
    "    'num_cycles':4,\n",
    "    'lr_max':0.15,\n",
    "    'weighted_average':False\n",
    "}"
   ]
  },
  {
   "cell_type": "code",
   "execution_count": 2,
   "metadata": {},
   "outputs": [
    {
     "data": {
      "text/plain": [
       "{'model_name': 'resnet50',\n",
       " 'optimizer_name': 'Adam',\n",
       " 'num_epochs': 200,\n",
       " 'learning_rate': 0.1,\n",
       " 'weight_decay': 0.01,\n",
       " 'step_size': 25,\n",
       " 'gamma': 0.01}"
      ]
     },
     "execution_count": 2,
     "metadata": {},
     "output_type": "execute_result"
    }
   ],
   "source": [
    "model_name, optimizer_name, num_epochs, num_cycles, lr_max, device, weighted_average = False"
   ]
  },
  {
   "cell_type": "code",
   "execution_count": 3,
   "metadata": {},
   "outputs": [],
   "source": [
    "import json\n",
    "\n",
    "dict_ = json.dumps(dict_)"
   ]
  },
  {
   "cell_type": "code",
   "execution_count": 4,
   "metadata": {},
   "outputs": [
    {
     "data": {
      "text/plain": [
       "'{\"model_name\": \"resnet50\", \"optimizer_name\": \"Adam\", \"num_epochs\": 200, \"learning_rate\": 0.1, \"weight_decay\": 0.01, \"step_size\": 25, \"gamma\": 0.01}'"
      ]
     },
     "execution_count": 4,
     "metadata": {},
     "output_type": "execute_result"
    }
   ],
   "source": [
    "dict_"
   ]
  },
  {
   "cell_type": "code",
   "execution_count": 9,
   "metadata": {},
   "outputs": [],
   "source": [
    "with open('snapshot.json', 'w') as fp:\n",
    "    json.dump(dict_, fp)"
   ]
  },
  {
   "cell_type": "code",
   "execution_count": 14,
   "metadata": {},
   "outputs": [],
   "source": [
    "with open('../basic.json', 'r') as f:\n",
    "    parameters = json.load(f)"
   ]
  },
  {
   "cell_type": "code",
   "execution_count": 13,
   "metadata": {},
   "outputs": [
    {
     "data": {
      "text/plain": [
       "int"
      ]
     },
     "execution_count": 13,
     "metadata": {},
     "output_type": "execute_result"
    }
   ],
   "source": [
    "type(parameters['num_epochs'])"
   ]
  },
  {
   "cell_type": "code",
   "execution_count": null,
   "metadata": {},
   "outputs": [],
   "source": []
  }
 ],
 "metadata": {
  "kernelspec": {
   "display_name": "Python 3",
   "language": "python",
   "name": "python3"
  },
  "language_info": {
   "codemirror_mode": {
    "name": "ipython",
    "version": 3
   },
   "file_extension": ".py",
   "mimetype": "text/x-python",
   "name": "python",
   "nbconvert_exporter": "python",
   "pygments_lexer": "ipython3",
   "version": "3.7.3"
  }
 },
 "nbformat": 4,
 "nbformat_minor": 2
}
